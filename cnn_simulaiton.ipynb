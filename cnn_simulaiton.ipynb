{
 "cells": [
  {
   "cell_type": "code",
   "execution_count": 1,
   "id": "53d78391-6117-421f-90a6-87784503f244",
   "metadata": {},
   "outputs": [],
   "source": [
    "import math\n",
    "import time\n",
    "import numbers\n",
    "import numpy as np\n",
    "from PIL import Image\n",
    "import ipywidgets as widgets\n",
    "import matplotlib.pyplot as plt\n",
    "from sklearn.metrics import mean_squared_error\n",
    "from ipywidgets import FloatSlider, IntSlider, Dropdown, Layout, interact\n",
    "\n",
    "from lib.util import plot_XY_function_graph\n",
    "from lib.cnn import ImageUtil, CNN, CNNTemplate, CNNSimulator\n",
    "from lib.cnn_template import CNNTemplateLib\n",
    "from lib.ode import rk4_system_algorithm, rk4_system_method, rkacem_system_method, ode_methods"
   ]
  },
  {
   "cell_type": "markdown",
   "id": "feae068e-7faf-4333-a06f-8496db6308f5",
   "metadata": {},
   "source": [
    "## Implementation of ImageUtil"
   ]
  },
  {
   "cell_type": "code",
   "execution_count": 2,
   "id": "d7a8dd91-9422-459d-a69d-f353c2b04198",
   "metadata": {},
   "outputs": [],
   "source": [
    "# todo read the doc https://towardsdatascience.com/how-to-speedup-data-processing-with-numpy-vectorization-12acac71cfca"
   ]
  },
  {
   "cell_type": "markdown",
   "id": "d13347c3-efb8-4271-b81c-b2ceec3c5f21",
   "metadata": {},
   "source": [
    "We dont know the exact equation of CNN but we know the differential equation of the CNN.\n",
    "\n",
    "> Dynamic equation of is not depends on time i.e there is no term of $t$ its only depends on neighbor cell values\n",
    "\n",
    "In the next cell we visualize the dynamic of a cnn for a hole filling problem.\n",
    "\n",
    "We will fill hole of a two dimensional bipolar($\\pm1$) image.\n",
    "\n",
    "If we take 0 indexed array then \n",
    "$A(i,j;k,l) = A(k-i+1, l-j+1)$\n",
    "\n",
    "If we take 1 indexed array then \n",
    "$A(i,j;k,l) = A(k-i+2, l-j+2)$\n",
    "\n",
    "it controll feedback from neighbors"
   ]
  },
  {
   "cell_type": "markdown",
   "id": "34b257db-b2f3-414d-b374-0fb6c43308d7",
   "metadata": {},
   "source": [
    "## Notes on encoding image\n",
    "\n",
    "Its depends on what was the asumption when we design our template for a speficic problem\n",
    "\n",
    "for the problem of hole fill with template \n",
    "\n",
    "$$\n",
    "A=\n",
    "\\begin{bmatrix} \n",
    "    0 & 0.6 & 0 \\\\\n",
    "    0.6 & 4 & 0.6 \\\\\n",
    "    0 & 0.6 & 0 \\\\\n",
    "\\end{bmatrix}\n",
    "B=\n",
    "\\begin{bmatrix} \n",
    "    0 & 0 & 0 \\\\\n",
    "    0 & 4 & 0 \\\\\n",
    "    0 & 0 & 0 \\\\\n",
    "\\end{bmatrix}\n",
    "I = -1\n",
    "$$\n",
    "\n",
    "Assumption on on $R_x=1$ and $C=1$.\n",
    "\n",
    "We consider $+1$ stand for the **black** pixel and $-1$ for the **white** one."
   ]
  },
  {
   "cell_type": "markdown",
   "id": "d4534a37-6064-44bc-9ca2-f8695d317375",
   "metadata": {},
   "source": [
    "## A simulation example"
   ]
  },
  {
   "cell_type": "code",
   "execution_count": 3,
   "id": "aada5792-dd7e-4f3e-9684-9f8cbf7eeaef",
   "metadata": {
    "tags": []
   },
   "outputs": [
    {
     "data": {
      "text/plain": [
       "<matplotlib.image.AxesImage at 0x7f5b24d44ed0>"
      ]
     },
     "execution_count": 3,
     "metadata": {},
     "output_type": "execute_result"
    },
    {
     "data": {
      "image/png": "[encoded data removed]",
      "text/plain": [
       "<Figure size 640x480 with 2 Axes>"
      ]
     },
     "metadata": {},
     "output_type": "display_data"
    }
   ],
   "source": [
    "# In the np_array encoding 0 stands for black \n",
    "# and 255 stands for white pixel.\n",
    "input_image_array = np.array(\n",
    "[[255, 0, 255, 255],\n",
    "[0, 255, 0, 255],\n",
    "[0, 255, 0, 255],\n",
    "[255, 0, 255, 0]]\n",
    ",dtype=np.uint8)\n",
    "\n",
    "output_image_array = np.array(\n",
    "[[255, 0, 255, 255],\n",
    "[0, 0, 0, 255],\n",
    "[0, 0, 0, 255],\n",
    "[255, 0, 255, 0]]\n",
    ",dtype=np.uint8)\n",
    "\n",
    "input_image = ImageUtil.image_from_gray_encode_nparray(input_image_array, scale=20)\n",
    "output_image = ImageUtil.image_from_gray_encode_nparray(output_image_array, scale=20)\n",
    "\n",
    "f, axarr = plt.subplots(1,2)\n",
    "\n",
    "axarr[0].axis('off')\n",
    "axarr[1].axis('off')\n",
    "axarr[0].set_title('Input', fontsize='large', loc='left')\n",
    "axarr[1].set_title('Output', fontsize='large', loc='left')\n",
    "axarr[0].imshow(input_image, cmap = plt.cm.gray)\n",
    "axarr[1].imshow(output_image, cmap = plt.cm.gray)\n"
   ]
  },
  {
   "cell_type": "markdown",
   "id": "de17062d-4697-456f-92e0-7682878e42fa",
   "metadata": {},
   "source": [
    "## First implementation of CNN simulation"
   ]
  },
  {
   "cell_type": "code",
   "execution_count": 4,
   "id": "3ec3e2c4-6f2b-4d4a-beb8-2e4b743bac1c",
   "metadata": {
    "tags": []
   },
   "outputs": [
    {
     "data": {
      "application/vnd.jupyter.widget-view+json": {
       "model_id": "f87ae1d24b7a45fb918ce3c91f64e39c",
       "version_major": 2,
       "version_minor": 0
      },
      "text/plain": [
       "interactive(children=(FloatSlider(value=1.0, description='sumulation_time', max=3.0), FloatSlider(value=1.0, d…"
      ]
     },
     "metadata": {},
     "output_type": "display_data"
    }
   ],
   "source": [
    "# First implementation of CNN simulation\n",
    "cnn_state = np.array(\n",
    "[[+1, +1, +1, +1],\n",
    "[+1, +1, +1, +1],\n",
    "[+1, +1, +1, +1],\n",
    "[+1, +1, +1, +1],]\n",
    ")\n",
    "    \n",
    "def calculate_cnn_dynamic(i, j, cnn_state):\n",
    "    # print(f\"Calculating dynamic for (i, j)=({i}, {j})\")\n",
    "    cnn_input = np.array(\n",
    "    [[-1, +1, -1, -1],\n",
    "    [+1, -1, +1, -1],\n",
    "    [+1, -1, +1, -1],\n",
    "    [-1, +1, -1, +1],]\n",
    "    )\n",
    "\n",
    "    A = np.array(\n",
    "    [[0, 0.6, 0],\n",
    "    [0.6, 4, 0.6],\n",
    "    [0, 0.6, 0]]\n",
    "    )\n",
    "    B = np.array(\n",
    "    [[0, 0, 0],\n",
    "    [0, 4, 0],\n",
    "    [0, 0, 0]]\n",
    "    )\n",
    "    I = -1\n",
    "    \n",
    "    Vx = cnn_state\n",
    "    Vu = cnn_input\n",
    "    C = 1\n",
    "    Rx = 1\n",
    "    \n",
    "    \n",
    "    # print(\"Given, \")\n",
    "    # print(\"Vx =\", Vx)\n",
    "    # print(\"Vu =\", Vu)\n",
    "    \n",
    "    x_sum = -(1/Rx)*Vx[i,j]\n",
    "    x_sum_str = f\"-(1/Rx)*Vx[{i},{j}]\"\n",
    "    \n",
    "    y_sum = 0\n",
    "    y_sum_str = \"\"\n",
    "    \n",
    "    u_sum = 0\n",
    "    u_sum_str = \"\"\n",
    "\n",
    "    for k in range(i-1,i+2):\n",
    "        for l in range(j-1,j+2):\n",
    "            if 0 <= k and k < Vx.shape[0]:\n",
    "                if 0 <= l and l < Vx.shape[1]:\n",
    "                    Vy = (abs(Vx[k,l]+1) - abs(Vx[k,l]-1))/2\n",
    "                    Vy_str = f\"+(abs(Vx[{k},{l}]+1) - abs(Vx[{k},{l}]-1))/2\"\n",
    "                    \n",
    "                    y_sum = y_sum + A[k-i+1, l-j+1]*Vy\n",
    "                    y_sum_str = y_sum_str + f\" + A[{k-i+1}, {l-j+1}]*Vy[{k}, {l}]\"\n",
    "                    # y_sum_str = y_sum_str + f\"A[{k-i+1}, {k-i+1}]*{Vy_str}\"\n",
    "                    \n",
    "                    u_sum = u_sum + B[k-i+1, l-j+1]*Vu[k,l]\n",
    "                    u_sum_str = u_sum_str + f\" + B[{k-i+1}, {k-i+1}]*Vu[{k},{l}]\"\n",
    "    dynamic = x_sum + y_sum + u_sum + I\n",
    "    dynamic_str = f\"{x_sum_str}{y_sum_str}{u_sum_str}\"\n",
    "    # print(\"Eval = \", dynamic_str)\n",
    "    return dynamic\n",
    "\n",
    "def calculate_dynamic(state):\n",
    "    dynamics = np.zeros((4, 4))\n",
    "    for i in range(0, 4):\n",
    "        for j in range(0, 4):\n",
    "            dynamics[i, j] = calculate_cnn_dynamic(i, j, state)\n",
    "    return dynamics\n",
    "\n",
    "total_row_num = 4\n",
    "total_col_num = 4\n",
    "def get_dynm_fun_at(index):\n",
    "    i = index // total_col_num\n",
    "    j = index % total_col_num\n",
    "    return lambda t, X : calculate_cnn_dynamic(i, j, X.reshape(total_row_num, total_col_num))\n",
    "\n",
    "@widgets.interact(sumulation_time=(0, 3, .1), step_size=(.1, 2, .1))\n",
    "def simulate(sumulation_time, step_size):\n",
    "    cnn_1d_state = cnn_state.reshape((total_col_num*total_row_num))\n",
    "    T, XX = rk4_system_algorithm(t0=0, X0=cnn_1d_state, tn=sumulation_time, h=step_size, getFunc=get_dynm_fun_at, ode_method=rkacem_system_method, tol=.01, max_tolerable_dynamic=.01)\n",
    "    result = XX[-1].reshape((4,4))\n",
    "    vy = (abs(result+1) - abs(result-1))/2\n",
    "    print(T)\n",
    "    display(ImageUtil.image_from_bipolar_encode_nparray(vy, scale=50))\n",
    "    print(\"state =\\n\", result)\n",
    "    dynm = calculate_dynamic(result)\n",
    "    print(\"dynamic =\\n\", dynm)\n",
    "    print(\"max dynamic =\", np.max(abs(dynm)))\n",
    "    # print(np.max(dynm))"
   ]
  },
  {
   "cell_type": "markdown",
   "id": "2c255d6b-2eac-47a4-90f7-cfdc7f44f03f",
   "metadata": {},
   "source": [
    "## Refactored implementation of CNN simulator"
   ]
  },
  {
   "cell_type": "code",
   "execution_count": 6,
   "id": "2fc9add5-6738-4f6f-8077-1eb46a0e5b79",
   "metadata": {
    "tags": []
   },
   "outputs": [
    {
     "name": "stdout",
     "output_type": "stream",
     "text": [
      "computation time = 0.04129910469055176\n",
      "simulation time = 19.210784019691157\n",
      "total iteration = 11\n",
      "system max_dynamic =  0.08315851761158477\n"
     ]
    }
   ],
   "source": [
    "# simulate simple holefill to test refactor implementation\n",
    "def simulate_hole_fill():\n",
    "        \n",
    "    hole_fill_template = CNNTemplate(\n",
    "        A=np.array(\n",
    "            [[0, 0.6, 0],\n",
    "            [0.6, 4, 0.6],\n",
    "            [0, 0.6, 0]]\n",
    "        ),\n",
    "        B=np.array(\n",
    "            [[0, 0, 0],\n",
    "            [0, 4, 0],\n",
    "            [0, 0, 0]]\n",
    "        ),\n",
    "        I=-1\n",
    "    )\n",
    "\n",
    "    cnn_state = np.array(\n",
    "        [[+1, +1, +1, +1],\n",
    "        [+1, +1, +1, +1],\n",
    "        [+1, +1, +1, +1],\n",
    "        [+1, +1, +1, +1],]\n",
    "    )\n",
    "\n",
    "    cnn_input = np.array(\n",
    "        [[-1, +1, -1, -1],\n",
    "        [+1, -1, +1, -1],\n",
    "        [+1, -1, +1, -1],\n",
    "        [-1, +1, -1, +1],]\n",
    "    )\n",
    "\n",
    "    cnn = CNN(cnn_input, cnn_state, hole_fill_template)\n",
    "    simulator = CNNSimulator(cnn)\n",
    "    simulator.ode_method = rkacem_system_method\n",
    "    # simulator.ode_method = rk4_system_method\n",
    "    simulator.step_size = 1\n",
    "    simulator.simulation_time = 20\n",
    "    simulator.simulate()\n",
    "    simulator.display_simulator_output()\n",
    "\n",
    "simulate_hole_fill()"
   ]
  }
 ],
 "metadata": {
  "kernelspec": {
   "display_name": "Python 3 (ipykernel)",
   "language": "python",
   "name": "python3"
  },
  "language_info": {
   "codemirror_mode": {
    "name": "ipython",
    "version": 3
   },
   "file_extension": ".py",
   "mimetype": "text/x-python",
   "name": "python",
   "nbconvert_exporter": "python",
   "pygments_lexer": "ipython3",
   "version": "3.11.2"
  }
 },
 "nbformat": 4,
 "nbformat_minor": 5
}
