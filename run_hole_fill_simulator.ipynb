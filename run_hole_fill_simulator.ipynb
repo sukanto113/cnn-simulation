{
 "cells": [
  {
   "cell_type": "markdown",
   "id": "6fc84891-385e-47c9-b7bc-532e2cebe167",
   "metadata": {},
   "source": [
    "# Run Holefill Simulation"
   ]
  },
  {
   "cell_type": "code",
   "execution_count": 2,
   "id": "93e6e8ad-8f05-472f-8796-7585ab0f266e",
   "metadata": {},
   "outputs": [],
   "source": [
    "from ipywidgets import FloatSlider, Layout\n",
    "import ipywidgets as widgets\n",
    "from PIL import Image\n",
    "import numpy as np\n",
    "\n",
    "from lib.cnn import ImageUtil, CNN, CNNTemplate, CNNSimulator\n",
    "from lib.cnn_template import CNNTemplateLib\n",
    "import lib.simulationui as gui"
   ]
  },
  {
   "cell_type": "code",
   "execution_count": 3,
   "id": "389dc807-2432-49ee-a3f6-1776f766fd3c",
   "metadata": {},
   "outputs": [
    {
     "data": {
      "application/vnd.jupyter.widget-view+json": {
       "model_id": "665c740fa87f41f6b2d3ca3e0e319df2",
       "version_major": 2,
       "version_minor": 0
      },
      "text/plain": [
       "interactive(children=(Dropdown(description='file_path', options=('image/hole_fill_input_1.png', 'image/hole_fi…"
      ]
     },
     "metadata": {},
     "output_type": "display_data"
    }
   ],
   "source": [
    "input_file_paths = [\"image/hole_fill_input_1.png\", \"image/hole_fill_input_2.png\", \"image/hole_fill_input_3.png\"]\n",
    "\n",
    "@widgets.interact(file_path=input_file_paths)\n",
    "def run_example_sumulation(file_path):\n",
    "    image = Image.open(file_path)\n",
    "    cnn_input = ImageUtil.convert_image2bipolar_encode(image)\n",
    "    cnn_state = np.ones(cnn_input.shape)\n",
    "    \n",
    "    cnn = CNN(cnn_input, cnn_state, CNNTemplateLib[\"hole_fill_template\"])\n",
    "    simulator = CNNSimulator(cnn)\n",
    "\n",
    "    gui.build_interactive_simulation_gui(simulator)\n",
    "    "
   ]
  }
 ],
 "metadata": {
  "kernelspec": {
   "display_name": "Python 3 (ipykernel)",
   "language": "python",
   "name": "python3"
  },
  "language_info": {
   "codemirror_mode": {
    "name": "ipython",
    "version": 3
   },
   "file_extension": ".py",
   "mimetype": "text/x-python",
   "name": "python",
   "nbconvert_exporter": "python",
   "pygments_lexer": "ipython3",
   "version": "3.11.2"
  }
 },
 "nbformat": 4,
 "nbformat_minor": 5
}
