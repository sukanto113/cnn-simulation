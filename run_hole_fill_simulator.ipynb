{
 "cells": [
  {
   "cell_type": "markdown",
   "id": "6fc84891-385e-47c9-b7bc-532e2cebe167",
   "metadata": {},
   "source": [
    "# Run Holefill Simulation"
   ]
  },
  {
   "cell_type": "code",
   "execution_count": 1,
   "id": "09de5811-39ae-4984-b3f6-63c44129351e",
   "metadata": {},
   "outputs": [
    {
     "data": {
      "application/vnd.jupyter.widget-view+json": {
       "model_id": "358d4da3b0524d46a2e69c8711daff22",
       "version_major": 2,
       "version_minor": 0
      },
      "text/plain": [
       "interactive(children=(Dropdown(description='file_path', options=('image/hole_fill_input_1.png', 'image/hole_fi…"
      ]
     },
     "metadata": {},
     "output_type": "display_data"
    }
   ],
   "source": [
    "from ipywidgets import FloatSlider, Layout\n",
    "import ipywidgets as widgets\n",
    "from PIL import Image\n",
    "import numpy as np\n",
    "\n",
    "from lib.ode import ode_methods\n",
    "from lib.cnn import ImageUtil, CNN, CNNTemplate, CNNSimulator\n",
    "from lib.cnn_template import CNNTemplateLib\n",
    "\n",
    "input_file_paths = [\"image/hole_fill_input_1.png\", \"image/hole_fill_input_2.png\", \"image/hole_fill_input_3.png\"]\n",
    "ode_methods_name = list(ode_methods.keys())\n",
    "@widgets.interact(\n",
    "    file_path=input_file_paths,\n",
    "    ode_method = ode_methods_name,\n",
    "    time=FloatSlider(min=0, max=20, step=.1, value=1, layout=Layout(width='600px')),\n",
    "    step_size=FloatSlider(min=.1, max=5, step=.1, value=1, layout=Layout(width='600px')),\n",
    "    tol=\".01\",\n",
    "    max_tol_dym=\".01\"\n",
    ")\n",
    "def run_hole_fill_simulator(file_path, ode_method, time, step_size, tol, max_tol_dym):\n",
    "    image = Image.open(file_path)\n",
    "    cnn_input = ImageUtil.convert_image2bipolar_encode(image)\n",
    "    cnn_state = np.ones(cnn_input.shape)\n",
    "    \n",
    "    cnn = CNN(cnn_input, cnn_state, CNNTemplateLib[\"hole_fill_template\"])\n",
    "    \n",
    "    simulator = CNNSimulator(cnn)\n",
    "    simulator.step_size = step_size\n",
    "    simulator.simulation_time = time\n",
    "    simulator.max_tolerable_dynamic = float(max_tol_dym)\n",
    "    simulator.tol = float(tol)\n",
    "    simulator.ode_method = ode_methods[ode_method]\n",
    "\n",
    "    simulator.simulate()\n",
    "\n",
    "    # display_simulator_output(simulator)\n",
    "    simulator.display_simulator_output()\n",
    "    "
   ]
  }
 ],
 "metadata": {
  "kernelspec": {
   "display_name": "Python 3 (ipykernel)",
   "language": "python",
   "name": "python3"
  },
  "language_info": {
   "codemirror_mode": {
    "name": "ipython",
    "version": 3
   },
   "file_extension": ".py",
   "mimetype": "text/x-python",
   "name": "python",
   "nbconvert_exporter": "python",
   "pygments_lexer": "ipython3",
   "version": "3.9.12"
  }
 },
 "nbformat": 4,
 "nbformat_minor": 5
}
