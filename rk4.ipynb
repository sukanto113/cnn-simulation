{
 "cells": [
  {
   "cell_type": "code",
   "execution_count": 1,
   "id": "02acb923-ff27-45bc-bd55-792d33cd24fe",
   "metadata": {
    "tags": []
   },
   "outputs": [],
   "source": [
    "# imports\n",
    "import numpy as np\n",
    "import matplotlib.pyplot as plt\n",
    "from sklearn.metrics import mean_squared_error\n",
    "import math\n",
    "\n",
    "from lib.util import plot_XY_function_graph\n",
    "from lib.ode import plot_approximate_vs_exact"
   ]
  },
  {
   "cell_type": "markdown",
   "id": "1c97b3ee-99a8-4e18-91b8-3ee46b72f9cb",
   "metadata": {
    "tags": []
   },
   "source": [
    "## Problem:\n",
    "\n",
    "Use **rk4** method to approximate $y'=y-x^2+1$ with $y(0) = 0.5$ and give exact solution $y = x^2 + 2x + 1 - e^{x}/2$ <br/>\n",
    "\n",
    "The image below provides a visual representation of the exact solution.\n"
   ]
  },
  {
   "cell_type": "code",
   "execution_count": 2,
   "id": "7812d414-c5a8-48f3-b2b8-63c710018c00",
   "metadata": {
    "tags": []
   },
   "outputs": [
    {
     "data": {
      "image/png": "[encoded data removed]",
      "text/plain": [
       "<Figure size 432x288 with 1 Axes>"
      ]
     },
     "metadata": {
      "needs_background": "light"
     },
     "output_type": "display_data"
    }
   ],
   "source": [
    "plot_XY_function_graph(0, 4, lambda x : x**2 + 2*x + 1 - np.exp(x)/2)"
   ]
  },
  {
   "cell_type": "markdown",
   "id": "07a1ecfa-e1ed-4e8d-9314-770a8e777284",
   "metadata": {},
   "source": [
    "## **rk4** method:\n",
    "Suppose $y$ is a function of $x$, and a **ODE** of the form $\\frac{dy}{dx} = f(x, y)$ where $y(x_0) = y_0$.<br/>\n",
    "Then we calculate value at $f(x_0 + h)$ using the below formula. Where $h$ is very small.<br/> \n",
    "<br/>\n",
    "$k_1 = h * f(x_0, y_0)$<br/>\n",
    "$k_2 = h * f(x_0 + h/2, y_0 + k_1/2)$<br/>\n",
    "$k_3 = h * f(x_0 + h/2, y_0 + k_2/2)$<br/>\n",
    "$k_4 = h * f(x_0 + h, y_0 + k_3)$<br/>\n",
    "$f(x_0+h) = y_0 + (k_1 + 2*k_2 + 2 * k_3 +k_4)/6$<br/>\n",
    "<br/>\n",
    "By repeting this process we can calculate any value of $f(x)$.<br/>\n",
    "This method is called **Fourth-Order Runge-Kutta(rk4)** method.\n",
    "\n",
    "I calculate the slop at 4 different point and. Eular method calculate in 1\n",
    "### rk4 method in python is implemented in below cell:"
   ]
  },
  {
   "cell_type": "code",
   "execution_count": 3,
   "id": "d58a32c8-5b87-45a3-896a-f99395760789",
   "metadata": {
    "tags": []
   },
   "outputs": [],
   "source": [
    "def rk4_method(x0, y0, h, f):\n",
    "    k1 = h * f(x0, y0)\n",
    "    k2 = h * f(x0 + h/2, y0 + k1/2)\n",
    "    k3 = h * f(x0 + h/2, y0 + k2/2)\n",
    "    k4 = h * f(x0 + h, y0 + k3)\n",
    "    return y0 + (k1 + 2*k2 + 2*k3 + k4) / 6"
   ]
  },
  {
   "cell_type": "markdown",
   "id": "6e094ea4-dcf1-4981-833d-40b599a81714",
   "metadata": {},
   "source": [
    "> We have two algorithm to approximate the give equation. One algorithm takes total number of iteration to reach at $x_n$. And another algorithm takes step size $h$ to reach at $x_n$ iteratively.\n",
    "\n",
    "In below we have solve the equation in two different algorithm."
   ]
  },
  {
   "cell_type": "markdown",
   "id": "ba0c9dfc-c207-45ab-9435-3207c96e222c",
   "metadata": {
    "tags": []
   },
   "source": [
    "## Solve using $n$ strategy:\n",
    "\n",
    "### Algorithm:\n",
    "\n",
    "Given $x_0$, $y_0$ and number of iteration $n$ we need to calculate $x_n$.<br/>\n",
    "\n",
    "$ h = (xn - x0)/(n) $<br/>\n",
    "`for` $i = 0 : n-1 \\{ $<br/>\n",
    "&emsp;  $x_{i+1} = x_i + h$<br/>\n",
    "&emsp;  $y_{i+1} = $ `rk4_method` $(x_i, y_i, h, f)$<br/>\n",
    "$\\}$<br/> \n",
    "\n",
    "### rk4 algorithm using $n$ strategy in python is implemented in the below cell:"
   ]
  },
  {
   "cell_type": "code",
   "execution_count": 4,
   "id": "89973973-c8ab-4362-a123-d325c816e267",
   "metadata": {
    "tags": []
   },
   "outputs": [],
   "source": [
    "def solve_with_rk4_n_strategy(x0, y0, xn, n, f):\n",
    "    X = np.zeros(n+1)\n",
    "    Y = np.zeros(n+1)\n",
    "    X[0] = x0\n",
    "    Y[0] = y0\n",
    "    h = (xn - x0)/(n)\n",
    "    for i in range(0, n):\n",
    "        X[i+1] = X[i] + h\n",
    "        Y[i+1] = rk4_method(X[i], Y[i], h, f)\n",
    "    return (X, Y)\n"
   ]
  },
  {
   "cell_type": "code",
   "execution_count": 5,
   "id": "358089ed-781c-4fd3-a939-b3da206a1f22",
   "metadata": {
    "tags": []
   },
   "outputs": [
    {
     "data": {
      "application/vnd.jupyter.widget-view+json": {
       "model_id": "e7a1e7b5f3a943ea960fce710cd3cac6",
       "version_major": 2,
       "version_minor": 0
      },
      "text/plain": [
       "HBox(children=(IntSlider(value=3, description='n', max=10, min=3), Play(value=3, max=10, min=3)))"
      ]
     },
     "metadata": {},
     "output_type": "display_data"
    },
    {
     "data": {
      "application/vnd.jupyter.widget-view+json": {
       "model_id": "07d9b8fb991c41e4860051497523a102",
       "version_major": 2,
       "version_minor": 0
      },
      "text/plain": [
       "Output()"
      ]
     },
     "metadata": {},
     "output_type": "display_data"
    }
   ],
   "source": [
    "# Code to generate graph\n",
    "import ipywidgets as widgets\n",
    "from IPython.display import display\n",
    "def run_simulation_n(n):\n",
    "    approximate = solve_with_rk4_n_strategy(0, .5, 4, n, lambda x, y: y - x**2 + 1)\n",
    "    plot_approximate_vs_exact(approximate, lambda x : x**2 + 2*x + 1 - np.exp(x)/2)\n",
    "\n",
    "play = widgets.Play(min=3, max=10, value=.5)\n",
    "slider = widgets.IntSlider(min=3, max=10, description=\"n\")\n",
    "widgets.jslink((play, 'value'), (slider, 'value'))\n",
    "\n",
    "\n",
    "ui = widgets.HBox([slider, play])\n",
    "output = widgets.interactive_output(run_simulation_n, {'n':play})\n",
    "display(ui, output)"
   ]
  },
  {
   "cell_type": "markdown",
   "id": "5f8053a8-f402-4a6c-84d4-082917054360",
   "metadata": {
    "tags": []
   },
   "source": [
    "## Solve using $h$ strategy: \n",
    "\n",
    "### Algorithm:\n",
    "\n",
    "Given $x_0$, $y_0$ and step size $h$ we need to calculate $x_n$.<br/>\n",
    "\n",
    "$i=0$<br/>\n",
    "`while` $x_i + h < x_n\\{$<br/>\n",
    "&emsp;  $x_{i+1} = x_i + h$<br/>\n",
    "&emsp;  $y_{i+1} = $ `rk4_method` $(x_i, y_i, h, f)$<br/>\n",
    "&emsp;  $i = i + 1$<br/>\n",
    "$\\}$<br>\n",
    "<br>\n",
    "$h = x_n - x_i$<br/>\n",
    "$x_n = x_i + h$<br/>\n",
    "$y_n = $ `rk4_method` $(x_i, y_i, h, f)$<br/>\n",
    "\n",
    "### rk4 algorithm using $n$ strategy in python is implemented in the below cell:"
   ]
  },
  {
   "cell_type": "code",
   "execution_count": 6,
   "id": "cb2b3924-1884-4d72-94d3-c561f03abdff",
   "metadata": {
    "tags": []
   },
   "outputs": [],
   "source": [
    "def solve_with_rk4_h_strategy(x0, y0, xn, h, f):\n",
    "    X = np.zeros(100)\n",
    "    Y = np.zeros(100)\n",
    "    X[0] = x0;\n",
    "    Y[0] = y0\n",
    "    \n",
    "    i = 0\n",
    "    while (X[i] + h) < xn:\n",
    "        X[i+1] = X[i] + h\n",
    "        Y[i+1] = rk4_method(X[i], Y[i], h, f)\n",
    "        i = i + 1\n",
    "    \n",
    "    h = xn - X[i]\n",
    "    X[i+1] = X[i] + h\n",
    "    Y[i+1] = rk4_method(X[i], Y[i], h, f)\n",
    "    i = i + 1\n",
    "    \n",
    "    return (X[:i+1], Y[:i+1])"
   ]
  },
  {
   "cell_type": "code",
   "execution_count": 7,
   "id": "971409bc-29bf-4c30-9b3b-7103608c9c64",
   "metadata": {
    "tags": []
   },
   "outputs": [
    {
     "data": {
      "application/vnd.jupyter.widget-view+json": {
       "model_id": "a341c79299434c3fa3fb43df6712c068",
       "version_major": 2,
       "version_minor": 0
      },
      "text/plain": [
       "FloatSlider(value=0.1, description='h', max=1.0, min=0.1)"
      ]
     },
     "metadata": {},
     "output_type": "display_data"
    },
    {
     "data": {
      "application/vnd.jupyter.widget-view+json": {
       "model_id": "58d10721bc9e415db8157917d5255794",
       "version_major": 2,
       "version_minor": 0
      },
      "text/plain": [
       "Output()"
      ]
     },
     "metadata": {},
     "output_type": "display_data"
    }
   ],
   "source": [
    "# Code to generate graph\n",
    "\n",
    "import ipywidgets as widgets\n",
    "from IPython.display import display\n",
    "\n",
    "def run_simulation_h(h):\n",
    "    approximate = solve_with_rk4_h_strategy(0, .5, 4, h, lambda x, y: y - x**2 + 1)\n",
    "    plot_approximate_vs_exact(approximate, lambda x : x**2 + 2*x + 1 - np.exp(x)/2)\n",
    "\n",
    "slider = widgets.FloatSlider(min=.1, max=1, description=\"h\")\n",
    "\n",
    "output = widgets.interactive_output(run_simulation_h, {'h':slider})\n",
    "display(slider, output)\n"
   ]
  }
 ],
 "metadata": {
  "kernelspec": {
   "display_name": "Python 3 (ipykernel)",
   "language": "python",
   "name": "python3"
  },
  "language_info": {
   "codemirror_mode": {
    "name": "ipython",
    "version": 3
   },
   "file_extension": ".py",
   "mimetype": "text/x-python",
   "name": "python",
   "nbconvert_exporter": "python",
   "pygments_lexer": "ipython3",
   "version": "3.9.12"
  }
 },
 "nbformat": 4,
 "nbformat_minor": 5
}
