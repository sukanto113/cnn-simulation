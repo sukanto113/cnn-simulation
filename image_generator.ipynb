{
 "cells": [
  {
   "cell_type": "markdown",
   "id": "25105898-1700-4ba5-97df-92e244c16483",
   "metadata": {},
   "source": [
    "# Generate some image for simulation"
   ]
  },
  {
   "cell_type": "code",
   "execution_count": 2,
   "id": "9ddb2f4b-5083-49fa-abd5-6bc141e6189c",
   "metadata": {},
   "outputs": [
    {
     "data": {
      "image/png": "[encoded data removed]",
      "text/plain": [
       "<PIL.Image.Image image mode=L size=40x40 at 0x233E30ABA30>"
      ]
     },
     "metadata": {},
     "output_type": "display_data"
    },
    {
     "data": {
      "image/png": "[encoded data removed]",
      "text/plain": [
       "<PIL.Image.Image image mode=L size=40x40 at 0x233E30AB820>"
      ]
     },
     "metadata": {},
     "output_type": "display_data"
    },
    {
     "data": {
      "image/png": "[encoded data removed]",
      "text/plain": [
       "<PIL.Image.Image image mode=L size=70x100 at 0x233E5A97D00>"
      ]
     },
     "metadata": {},
     "output_type": "display_data"
    },
    {
     "data": {
      "image/png": "[encoded data removed]",
      "text/plain": [
       "<PIL.Image.Image image mode=L size=80x120 at 0x233E30AB820>"
      ]
     },
     "metadata": {},
     "output_type": "display_data"
    },
    {
     "data": {
      "image/png": "[encoded data removed]",
      "text/plain": [
       "<PIL.Image.Image image mode=L size=100x100 at 0x233E5A97D00>"
      ]
     },
     "metadata": {},
     "output_type": "display_data"
    },
    {
     "data": {
      "image/png": "[encoded data removed]",
      "text/plain": [
       "<PIL.Image.Image image mode=L size=150x150 at 0x233E30AB820>"
      ]
     },
     "metadata": {},
     "output_type": "display_data"
    },
    {
     "data": {
      "image/png": "[encoded data removed]",
      "text/plain": [
       "<PIL.Image.Image image mode=L size=150x150 at 0x233E5A97D00>"
      ]
     },
     "metadata": {},
     "output_type": "display_data"
    },
    {
     "data": {
      "image/png": "[encoded data removed]",
      "text/plain": [
       "<PIL.Image.Image image mode=L size=130x100 at 0x233E30ABA30>"
      ]
     },
     "metadata": {},
     "output_type": "display_data"
    },
    {
     "data": {
      "image/png": "[encoded data removed]",
      "text/plain": [
       "<PIL.Image.Image image mode=L size=130x100 at 0x233E5A97D00>"
      ]
     },
     "metadata": {},
     "output_type": "display_data"
    },
    {
     "data": {
      "image/png": "[encoded data removed]",
      "text/plain": [
       "<PIL.Image.Image image mode=L size=130x100 at 0x233E30AB7F0>"
      ]
     },
     "metadata": {},
     "output_type": "display_data"
    },
    {
     "data": {
      "image/png": "[encoded data removed]",
      "text/plain": [
       "<PIL.Image.Image image mode=L size=130x100 at 0x233E5A97D00>"
      ]
     },
     "metadata": {},
     "output_type": "display_data"
    },
    {
     "data": {
      "image/png": "[encoded data removed]",
      "text/plain": [
       "<PIL.Image.Image image mode=L size=90x90 at 0x233E30AB7F0>"
      ]
     },
     "metadata": {},
     "output_type": "display_data"
    },
    {
     "data": {
      "image/png": "[encoded data removed]",
      "text/plain": [
       "<PIL.Image.Image image mode=L size=90x90 at 0x233E5A97D00>"
      ]
     },
     "metadata": {},
     "output_type": "display_data"
    },
    {
     "data": {
      "image/png": "[encoded data removed]",
      "text/plain": [
       "<PIL.Image.Image image mode=L size=150x150 at 0x233E30AB7F0>"
      ]
     },
     "metadata": {},
     "output_type": "display_data"
    }
   ],
   "source": [
    "from lib.cnn import ImageUtil\n",
    "import numpy as np\n",
    "ImageUtil.save_image_from_nparray(np.array(\n",
    "    [[-1, +1, -1, -1],\n",
    "    [+1, -1, +1, -1],\n",
    "    [+1, -1, +1, -1],\n",
    "    [-1, +1, -1, +1],]\n",
    "), \"image/hole_fill_input_1.png\", display_scale=10)\n",
    "\n",
    "ImageUtil.save_image_from_nparray(np.zeros((4,4))+1, \"image/hole_fill_state_1.png\", display_scale=10)\n",
    "\n",
    "ImageUtil.save_image_from_nparray(np.array(\n",
    "    [[-1, -1, -1, +1, -1, -1, -1],\n",
    "    [-1, -1, -1, +1, -1, -1, -1],\n",
    "    [-1, -1, +1, -1, +1, -1, -1],\n",
    "    [-1, -1, +1, -1, +1, -1, -1],\n",
    "    [-1, +1, -1, -1, -1, +1, -1],\n",
    "    [-1, +1, -1, -1, -1, +1, -1],\n",
    "    [+1, +1, +1, +1, +1, +1, +1],\n",
    "    [+1, -1, -1, -1, -1, -1, +1],\n",
    "    [+1, -1, -1, -1, -1, -1, +1],\n",
    "    [+1, -1, -1, -1, -1, -1, +1]]\n",
    "), \"image/hole_fill_input_2.png\", display_scale=10)\n",
    "\n",
    "ImageUtil.save_image_from_nparray(np.array(\n",
    "    [[-1, +1, +1, +1, +1, +1, +1, -1],\n",
    "    [+1, -1, -1, -1, -1, -1, -1, +1],\n",
    "    [+1, -1, -1, -1, -1, -1, -1, +1],\n",
    "    [+1, -1, -1, -1, -1, -1, -1, +1],\n",
    "    [-1, +1, -1, -1, -1, -1, +1, -1],\n",
    "    [-1, -1, +1, +1, +1, +1, -1, -1],\n",
    "    [-1, +1, -1, -1, -1, -1, +1, -1],\n",
    "    [+1, -1, -1, -1, -1, -1, -1, +1],\n",
    "    [+1, -1, -1, -1, -1, -1, -1, +1],\n",
    "    [+1, -1, -1, -1, -1, -1, -1, +1],\n",
    "    [-1, +1, -1, -1, -1, -1, +1, -1],\n",
    "    [-1, -1, +1, +1, +1, +1, -1, -1],]\n",
    "), \"image/hole_fill_input_3.png\", display_scale=10)\n",
    "\n",
    "ImageUtil.save_image_from_nparray(np.array(\n",
    "    [[-1, -1, -1, -1, -1, -1, -1, -1, -1, -1],\n",
    "    [-1, -1, -1, -1, -1, -1, -1, -1, -1, -1],\n",
    "    [-1, -1, -1, -1, -1, -1, -1, -1, -1, -1],\n",
    "    [-1, -1, -1, +1, +1, +1, +1, -1, -1, -1],\n",
    "    [-1, -1, -1, +1, -1, -1, +1, -1, -1, -1],\n",
    "    [-1, -1, -1, +1, -1, -1, +1, -1, -1, -1],\n",
    "    [-1, -1, -1, +1, +1, +1, +1, -1, -1, -1],\n",
    "    [-1, -1, -1, -1, -1, -1, -1, -1, -1, -1],\n",
    "    [-1, -1, -1, -1, -1, -1, -1, -1, -1, -1],\n",
    "    [-1, -1, -1, -1, -1, -1, -1, -1, -1, -1]]\n",
    "), \"image/enlarging_example_1.png\", display_scale=10)\n",
    "\n",
    "ImageUtil.save_image_from_nparray(np.array(\n",
    "    [[-1, -1, -1, -1, -1, -1, -1, +1, -1, -1, -1, -1, -1, -1, -1],\n",
    "    [-1, -1, -1, -1, -1, -1, +1, +1, +1, -1, -1, -1, -1, -1, -1],\n",
    "    [-1, -1, -1, -1, -1, -1, +1, +1, +1, -1, -1, -1, -1, -1, -1],\n",
    "    [-1, -1, -1, -1, -1, +1, +1, +1, +1, +1, -1, -1, -1, -1, -1],\n",
    "    [-1, -1, -1, +1, +1, +1, +1, +1, +1, +1, +1, +1, -1, -1, -1],\n",
    "    [-1, -1, -1, +1, +1, +1, +1, +1, +1, +1, +1, +1, -1, -1, -1],\n",
    "    [-1, -1, +1, +1, +1, +1, +1, +1, +1, +1, +1, +1, +1, -1, -1],\n",
    "    [-1, +1, +1, +1, +1, +1, +1, +1, +1, +1, +1, +1, +1, +1, -1],\n",
    "    [-1, -1, +1, +1, +1, +1, +1, +1, +1, +1, +1, +1, +1, -1, -1],\n",
    "    [-1, -1, -1, +1, +1, +1, +1, +1, +1, +1, +1, +1, -1, -1, -1],\n",
    "    [-1, -1, -1, +1, +1, +1, +1, +1, +1, +1, +1, +1, -1, -1, -1],\n",
    "    [-1, -1, -1, -1, -1, +1, +1, +1, +1, +1, -1, -1, -1, -1, -1],\n",
    "    [-1, -1, -1, -1, -1, -1, +1, +1, +1, -1, -1, -1, -1, -1, -1],\n",
    "    [-1, -1, -1, -1, -1, -1, +1, +1, +1, -1, -1, -1, -1, -1, -1],\n",
    "    [-1, -1, -1, -1, -1, -1, -1, +1, -1, -1, -1, -1, -1, -1, -1]]\n",
    "), \"image/edge_detect_input_1.png\", display_scale=10)\n",
    "ImageUtil.save_image_from_nparray(np.zeros((15,15)), \"image/edge_detect_state_1.png\", display_scale=10)\n",
    "\n",
    "\n",
    "ImageUtil.save_image_from_nparray(np.array(\n",
    "    [[-1, -1, -1, -1, -1, -1, -1, -1, -1, -1, -1, -1, -1],\n",
    "    [-1, +1, +1, +1, +1, +1, +1, +1, +1, +1, +1, +1, -1],\n",
    "    [-1, +1, +1, +1, +1, +1, +1, +1, +1, +1, +1, +1, -1],\n",
    "    [-1, +1, +1, -1, -1, -1, -1, -1, -1, -1, +1, +1, -1],\n",
    "    [-1, +1, +1, -1, -1, -1, -1, -1, -1, -1, +1, +1, -1],\n",
    "    [-1, +1, +1, -1, -1, -1, -1, -1, -1, -1, +1, +1, -1],\n",
    "    [-1, +1, +1, -1, -1, -1, -1, -1, -1, -1, +1, +1, -1],\n",
    "    [-1, +1, +1, +1, +1, +1, +1, +1, +1, +1, +1, +1, -1],\n",
    "    [-1, +1, +1, +1, +1, +1, +1, +1, +1, +1, +1, +1, -1],\n",
    "    [-1, -1, -1, -1, -1, -1, -1, -1, -1, -1, -1, -1, -1]]\n",
    "), \"image/convex_corner_input_1.png\", display_scale=10)\n",
    "\n",
    "ImageUtil.save_image_from_nparray(np.zeros((10,13)), \"image/convex_corner_state_1.png\", display_scale=10)\n",
    "\n",
    "ImageUtil.save_image_from_nparray(np.array(\n",
    "    [[-1, -1, -1, -1, -1, -1, -1, -1, -1, -1, -1, -1, -1],\n",
    "    [-1, +1, +1, +1, +1, +1, +1, +1, +1, +1, +1, +1, -1],\n",
    "    [-1, +1, -1, -1, -1, -1, -1, -1, -1, -1, -1, +1, -1],\n",
    "    [-1, +1, -1, -1, -1, -1, -1, -1, -1, -1, -1, +1, -1],\n",
    "    [-1, +1, -1, -1, -1, +1, -1, -1, -1, -1, -1, +1, -1],\n",
    "    [-1, +1, -1, -1, +1, -1, -1, -1, -1, -1, -1, +1, -1],\n",
    "    [-1, +1, -1, +1, -1, -1, -1, -1, -1, -1, -1, +1, -1],\n",
    "    [-1, +1, +1, -1, -1, -1, -1, -1, -1, -1, -1, +1, -1],\n",
    "    [-1, +1, +1, +1, +1, +1, +1, +1, +1, +1, +1, +1, -1],\n",
    "    [-1, -1, -1, -1, -1, -1, -1, -1, -1, -1, -1, -1, -1]]\n",
    "), \"image/set_difference_input_1.png\", display_scale=10)\n",
    "\n",
    "\n",
    "ImageUtil.save_image_from_nparray(np.array(\n",
    "    [[-1, -1, -1, -1, -1, -1, -1, -1, -1, -1, -1, -1, -1],\n",
    "    [-1, +1, +1, +1, +1, +1, +1, +1, +1, +1, +1, +1, -1],\n",
    "    [-1, +1, -1, -1, -1, -1, -1, -1, +1, -1, -1, +1, -1],\n",
    "    [-1, +1, -1, -1, -1, -1, -1, +1, -1, -1, -1, +1, -1],\n",
    "    [-1, +1, -1, -1, -1, -1, +1, -1, -1, -1, -1, +1, -1],\n",
    "    [-1, +1, -1, -1, -1, -1, -1, -1, -1, -1, -1, +1, -1],\n",
    "    [-1, +1, -1, -1, -1, -1, -1, -1, -1, -1, -1, +1, -1],\n",
    "    [-1, +1, -1, -1, -1, -1, -1, -1, -1, -1, -1, +1, -1],\n",
    "    [-1, +1, +1, +1, +1, +1, +1, +1, +1, +1, +1, +1, -1],\n",
    "    [-1, -1, -1, -1, -1, -1, -1, -1, -1, -1, -1, -1, -1]]\n",
    "), \"image/set_difference_state_1.png\", display_scale=10)\n",
    "\n",
    "ImageUtil.save_image_from_nparray(np.array(\n",
    "    [[+1, -1, +1, -1, +1, -1, +1, -1, +1],\n",
    "    [+1, -1, +1, -1, +1, -1, +1, -1, +1],\n",
    "    [+1, -1, +1, -1, +1, -1, +1, -1, +1],\n",
    "    [+1, -1, +1, -1, +1, -1, +1, -1, +1],\n",
    "    [+1, -1, +1, -1, +1, -1, +1, -1, +1],\n",
    "    [+1, -1, +1, -1, +1, -1, +1, -1, +1],\n",
    "    [+1, -1, +1, -1, +1, -1, +1, -1, +1],\n",
    "    [+1, -1, +1, -1, +1, -1, +1, -1, +1],\n",
    "    [+1, -1, +1, -1, +1, -1, +1, -1, +1]]\n",
    "), \"image/set_union_input_1.png\", display_scale=10)\n",
    "\n",
    "\n",
    "ImageUtil.save_image_from_nparray(np.array(\n",
    "    [[+1, +1, +1, +1, +1, +1, +1, +1, +1],\n",
    "    [-1, -1, -1, -1, -1, -1, -1, -1, -1],\n",
    "    [+1, +1, +1, +1, +1, +1, +1, +1, +1],\n",
    "    [-1, -1, -1, -1, -1, -1, -1, -1, -1],\n",
    "    [+1, +1, +1, +1, +1, +1, +1, +1, +1],\n",
    "    [-1, -1, -1, -1, -1, -1, -1, -1, -1],\n",
    "    [+1, +1, +1, +1, +1, +1, +1, +1, +1],\n",
    "    [-1, -1, -1, -1, -1, -1, -1, -1, -1],\n",
    "    [+1, +1, +1, +1, +1, +1, +1, +1, +1]]\n",
    "), \"image/set_union_state_1.png\", display_scale=10)\n",
    "\n",
    "ImageUtil.save_image_from_nparray(np.array(\n",
    "    [[-1, -1, -1, -1, -1, -1, -1, +0, -1, -1, -1, -1, -1, -1, -1],\n",
    "    [-1, -1, -1, -1, -1, -1, +0, +0, +0, -1, -1, -1, -1, -1, -1],\n",
    "    [-1, -1, -1, -1, -1, -1, +0, +1, +0, -1, -1, -1, -1, -1, -1],\n",
    "    [-1, -1, -1, -1, -1, +0, +0, +1, +0, +0, -1, -1, -1, -1, -1],\n",
    "    [-1, -1, -1, +0, +0, +0, +1, +1, +1, +1, +0, +0, -1, -1, -1],\n",
    "    [-1, -1, -1, +0, +1, +1, +1, +0, +1, +1, +1, +0, -1, -1, -1],\n",
    "    [-1, -1, +0, +1, +1, +1, -1, +0, +0, +1, +1, +0, +0, -1, -1],\n",
    "    [-1, +0, +0, +1, +1, +1, -1, -1, +1, +1, +1, +1, +0, +0, -1],\n",
    "    [-1, -1, +0, +0, +1, +1, -1, -1, +1, +1, +1, +1, +0, -1, -1],\n",
    "    [-1, -1, -1, +0, +1, +1, +1, +1, +1, +1, +1, +0, -1, -1, -1],\n",
    "    [-1, -1, -1, +0, +0, +0, +1, +1, +1, +1, +0, +0, -1, -1, -1],\n",
    "    [-1, -1, -1, -1, -1, +0, +0, +1, +0, +0, -1, -1, -1, -1, -1],\n",
    "    [-1, -1, -1, -1, -1, -1, +0, +1, +0, -1, -1, -1, -1, -1, -1],\n",
    "    [-1, -1, -1, -1, -1, -1, +1, +0, +0, -1, -1, -1, -1, -1, -1],\n",
    "    [-1, -1, -1, -1, -1, -1, -1, +0, -1, -1, -1, -1, -1, -1, -1]]\n",
    "), \"image/average_state_1.png\", display_scale=10)"
   ]
  },
  {
   "cell_type": "code",
   "execution_count": null,
   "id": "f0e38f18-08db-4b0b-8fe5-85b52e990f81",
   "metadata": {},
   "outputs": [],
   "source": []
  }
 ],
 "metadata": {
  "kernelspec": {
   "display_name": "Python 3 (ipykernel)",
   "language": "python",
   "name": "python3"
  },
  "language_info": {
   "codemirror_mode": {
    "name": "ipython",
    "version": 3
   },
   "file_extension": ".py",
   "mimetype": "text/x-python",
   "name": "python",
   "nbconvert_exporter": "python",
   "pygments_lexer": "ipython3",
   "version": "3.11.2"
  }
 },
 "nbformat": 4,
 "nbformat_minor": 5
}
