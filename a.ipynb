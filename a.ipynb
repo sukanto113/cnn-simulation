{
 "cells": [
  {
   "cell_type": "code",
   "execution_count": 9,
   "id": "ba3fb859-f610-4f14-babc-87192c93d096",
   "metadata": {},
   "outputs": [
    {
     "name": "stdout",
     "output_type": "stream",
     "text": [
      "I am a func\n"
     ]
    },
    {
     "name": "stderr",
     "output_type": "stream",
     "text": [
      "[NbConvertApp] Converting notebook a.ipynb to python\n",
      "[NbConvertApp] Writing 196 bytes to a.py\n"
     ]
    }
   ],
   "source": [
    "def a_func():\n",
    "    print(\"I am a func\")\n",
    "\n",
    "if(__name__==\"__main__\"):\n",
    "    !jupyter nbconvert a.ipynb --to python\n",
    "    a_func()"
   ]
  }
 ],
 "metadata": {
  "kernelspec": {
   "display_name": "Python 3 (ipykernel)",
   "language": "python",
   "name": "python3"
  },
  "language_info": {
   "codemirror_mode": {
    "name": "ipython",
    "version": 3
   },
   "file_extension": ".py",
   "mimetype": "text/x-python",
   "name": "python",
   "nbconvert_exporter": "python",
   "pygments_lexer": "ipython3",
   "version": "3.9.12"
  }
 },
 "nbformat": 4,
 "nbformat_minor": 5
}
