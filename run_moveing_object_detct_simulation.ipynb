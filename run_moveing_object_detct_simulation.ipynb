{
 "cells": [
  {
   "cell_type": "code",
   "execution_count": 2,
   "id": "de67c6e3-3af0-415c-ab97-60d2a2942dac",
   "metadata": {},
   "outputs": [],
   "source": [
    "import numpy as np\n",
    "from PIL import Image\n",
    "from lib.cnn import ImageUtil, CNN, CNNTemplate, CNNSimulator\n",
    "import lib.simulationui as gui"
   ]
  },
  {
   "cell_type": "code",
   "execution_count": 6,
   "id": "4247003e-8e37-4dc9-be42-10377c8c80ee",
   "metadata": {},
   "outputs": [
    {
     "data": {
      "application/vnd.jupyter.widget-view+json": {
       "model_id": "89042d028566460db1fd73ff3e43d9af",
       "version_major": 2,
       "version_minor": 0
      },
      "text/plain": [
       "VBox(children=(Dropdown(description='ODE Method:', options=('rk4_system_method', 'rkacem_system_method'), styl…"
      ]
     },
     "metadata": {},
     "output_type": "display_data"
    }
   ],
   "source": [
    "template = CNNTemplate(\n",
    "    A=np.array(\n",
    "        [[0, 0, 0],\n",
    "        [0, 1, 0],\n",
    "        [0, 0, 0]]\n",
    "    ),\n",
    "    B=np.array(\n",
    "        [[0, 0, 0],\n",
    "        [0, -1, 0],\n",
    "        [0, 0, 0]]\n",
    "    ),\n",
    "    I=-1\n",
    ")\n",
    "\n",
    "cnn_input = ImageUtil.convert_image2bipolar_encode(Image.open(\"image/move_input_100_bp.png\"))\n",
    "cnn_state = ImageUtil.convert_image2bipolar_encode(Image.open(\"image/move_state_100_bp.png\"))\n",
    "\n",
    "# avg_input = np.ones(avg_state.shape)\n",
    "cnn = CNN(cnn_input, cnn_state, template)\n",
    "simulator = CNNSimulator(cnn)\n",
    "gui.build_button_simulation_gui(simulator)"
   ]
  }
 ],
 "metadata": {
  "kernelspec": {
   "display_name": "Python 3 (ipykernel)",
   "language": "python",
   "name": "python3"
  },
  "language_info": {
   "codemirror_mode": {
    "name": "ipython",
    "version": 3
   },
   "file_extension": ".py",
   "mimetype": "text/x-python",
   "name": "python",
   "nbconvert_exporter": "python",
   "pygments_lexer": "ipython3",
   "version": "3.9.12"
  }
 },
 "nbformat": 4,
 "nbformat_minor": 5
}
