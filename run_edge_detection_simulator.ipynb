{
 "cells": [
  {
   "cell_type": "code",
   "execution_count": 1,
   "id": "11018377-731a-48bc-baf8-9c61da215abd",
   "metadata": {},
   "outputs": [],
   "source": [
    "from ipywidgets import FloatSlider, Layout\n",
    "import ipywidgets as widgets\n",
    "from PIL import Image\n",
    "import numpy as np\n",
    "from lib.ode import ode_methods\n",
    "from lib.cnn import ImageUtil, CNN, CNNTemplate, CNNSimulator\n",
    "from lib.cnn_template import CNNTemplateLib\n",
    "import lib.simulationui as gui"
   ]
  },
  {
   "cell_type": "code",
   "execution_count": 2,
   "id": "bb66a8ac-a27a-49ce-b34a-efcd8b80bca3",
   "metadata": {},
   "outputs": [
    {
     "data": {
      "application/vnd.jupyter.widget-view+json": {
       "model_id": "135b4c08654847a0953c1836c67aec19",
       "version_major": 2,
       "version_minor": 0
      },
      "text/plain": [
       "VBox(children=(Dropdown(description='ODE Method:', options=('rk4_system_method', 'rkacem_system_method', 'rkhm…"
      ]
     },
     "metadata": {},
     "output_type": "display_data"
    }
   ],
   "source": [
    "template = CNNTemplate(\n",
    "    A=np.array(\n",
    "        [[0, 0, 0],\n",
    "        [0, 0, 0],\n",
    "        [0, 0, 0]]\n",
    "    ),\n",
    "    B=np.array(\n",
    "        [[-1, -1, -1],\n",
    "        [-1, 8, -1],\n",
    "        [-1, -1, -1]]\n",
    "    ),\n",
    "    I=-1\n",
    ")\n",
    "\n",
    "file_path = \"image/edge_detect_input_1.png\"\n",
    "\n",
    "image = Image.open(file_path)\n",
    "cnn_input = ImageUtil.convert_image2bipolar_encode(image)\n",
    "cnn_state = np.zeros(cnn_input.shape)-1\n",
    "cnn = CNN(cnn_input, cnn_state, template)\n",
    "simulator = CNNSimulator(cnn)\n",
    "\n",
    "gui.build_button_simulation_gui(simulator)"
   ]
  }
 ],
 "metadata": {
  "kernelspec": {
   "display_name": "Python 3 (ipykernel)",
   "language": "python",
   "name": "python3"
  },
  "language_info": {
   "codemirror_mode": {
    "name": "ipython",
    "version": 3
   },
   "file_extension": ".py",
   "mimetype": "text/x-python",
   "name": "python",
   "nbconvert_exporter": "python",
   "pygments_lexer": "ipython3",
   "version": "3.11.2"
  }
 },
 "nbformat": 4,
 "nbformat_minor": 5
}
