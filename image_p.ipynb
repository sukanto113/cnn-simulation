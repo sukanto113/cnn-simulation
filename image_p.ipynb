{
 "cells": [
  {
   "cell_type": "code",
   "execution_count": 1,
   "id": "cac79246-310d-4031-a79f-6bfe6efcd48d",
   "metadata": {},
   "outputs": [],
   "source": [
    "import numpy as np\n",
    "from PIL import Image\n",
    "from lib.cnn import ImageUtil"
   ]
  },
  {
   "cell_type": "code",
   "execution_count": 40,
   "id": "5a52e211-eda0-4ec2-bd31-3908c03df9f8",
   "metadata": {},
   "outputs": [],
   "source": [
    "image = ImageUtil.convert_image2bipolar_encode(Image.open(\"image/move_state_100.png\"))\n",
    "# image = ImageUtil.convert_image2bipolar_encode(Image.open(\"image/face_1_edge.png\"))\n",
    "row, col = image.shape\n",
    "for i in range(0, row):\n",
    "    for j in range(0, col):\n",
    "        if(image[i, j] < -.7):\n",
    "            image[i, j] = -1\n",
    "        else:\n",
    "            image[i, j] = 1\n",
    "\n",
    "img = ImageUtil.image_from_bipolar_encode_nparray(image)\n",
    "img\n",
    "img.save(\"image/move_state_100_bp.png\")"
   ]
  }
 ],
 "metadata": {
  "kernelspec": {
   "display_name": "Python 3 (ipykernel)",
   "language": "python",
   "name": "python3"
  },
  "language_info": {
   "codemirror_mode": {
    "name": "ipython",
    "version": 3
   },
   "file_extension": ".py",
   "mimetype": "text/x-python",
   "name": "python",
   "nbconvert_exporter": "python",
   "pygments_lexer": "ipython3",
   "version": "3.11.2"
  }
 },
 "nbformat": 4,
 "nbformat_minor": 5
}
