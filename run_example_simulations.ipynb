{
 "cells": [
  {
   "cell_type": "markdown",
   "id": "ab9d77a1-8c91-4a4b-bca5-16c242f5ce48",
   "metadata": {},
   "source": [
    "# Run Some Example Simulation Using GUI"
   ]
  },
  {
   "cell_type": "code",
   "execution_count": 1,
   "id": "0488bc71-2f25-4dfb-816b-418372251767",
   "metadata": {
    "tags": []
   },
   "outputs": [],
   "source": [
    "import math\n",
    "import time\n",
    "import numbers\n",
    "import numpy as np\n",
    "from PIL import Image\n",
    "import ipywidgets as widgets\n",
    "import matplotlib.pyplot as plt\n",
    "from sklearn.metrics import mean_squared_error\n",
    "from ipywidgets import FloatSlider, IntSlider, Dropdown, Layout, interact\n",
    "\n",
    "from lib.util import plot_XY_function_graph\n",
    "from lib.cnn import ImageUtil, CNN, CNNTemplate, CNNSimulator\n",
    "from lib.cnn_template import CNNTemplateLib\n",
    "from lib.ode import test_ode_method, rk4_system_algorithm, rk4_system_method, rkacem_system_method, ode_methods, plot_approximate_vs_exact\n",
    "\n",
    "import lib.simulationui as gui"
   ]
  },
  {
   "cell_type": "code",
   "execution_count": 2,
   "id": "d6709d11-dac5-4d79-bdb1-a3f8f2272465",
   "metadata": {
    "tags": []
   },
   "outputs": [
    {
     "data": {
      "application/vnd.jupyter.widget-view+json": {
       "model_id": "305de2ee147f4ebfb1ecc2e132ee4ffc",
       "version_major": 2,
       "version_minor": 0
      },
      "text/plain": [
       "interactive(children=(Dropdown(description='simulation_name:', options=('holl filling 1', 'edge detection 1'),…"
      ]
     },
     "metadata": {},
     "output_type": "display_data"
    }
   ],
   "source": [
    "example_simulations = {\n",
    "    \"holl filling 1\": {\n",
    "        \"input_image_path\": \"image/hole_fill_input_1.png\",\n",
    "        \"state_image_path\": \"image/hole_fill_state_1.png\",\n",
    "        \"template\": CNNTemplateLib[\"hole_fill_template\"]\n",
    "    },\n",
    "    \"edge detection 1\": {\n",
    "        \"input_image_path\": \"image/edge_detect_input_1.png\",\n",
    "        \"state_image_path\": \"image/edge_detect_state_1.png\",\n",
    "        \"template\": CNNTemplateLib[\"edge_detect_template\"]\n",
    "    }\n",
    "}\n",
    "\n",
    "example_simulation_names = list(example_simulations.keys())\n",
    "\n",
    "@widgets.interact(\n",
    "    simulation_name=widgets.Dropdown(\n",
    "        options=example_simulation_names,\n",
    "        description='simulation_name:',\n",
    "        style= {'description_width': '100px'}\n",
    "    ),\n",
    ")\n",
    "def run_example_simulation(simulation_name):\n",
    "    simulation_info = example_simulations[simulation_name]\n",
    "    input_image_path = simulation_info[\"input_image_path\"]\n",
    "    state_image_path = simulation_info[\"state_image_path\"]\n",
    "    template = simulation_info[\"template\"]\n",
    "        \n",
    "    cnn_input = ImageUtil.convert_image2bipolar_encode(Image.open(input_image_path))\n",
    "    cnn_state = ImageUtil.convert_image2bipolar_encode(Image.open(state_image_path))\n",
    "    \n",
    "    cnn = CNN(cnn_input, cnn_state, template)\n",
    "    simulator = CNNSimulator(cnn)\n",
    "\n",
    "    gui.build_interactive_simulation_gui(simulator)\n",
    "    "
   ]
  }
 ],
 "metadata": {
  "kernelspec": {
   "display_name": "Python 3 (ipykernel)",
   "language": "python",
   "name": "python3"
  },
  "language_info": {
   "codemirror_mode": {
    "name": "ipython",
    "version": 3
   },
   "file_extension": ".py",
   "mimetype": "text/x-python",
   "name": "python",
   "nbconvert_exporter": "python",
   "pygments_lexer": "ipython3",
   "version": "3.9.12"
  }
 },
 "nbformat": 4,
 "nbformat_minor": 5
}
