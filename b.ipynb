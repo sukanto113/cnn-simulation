{
 "cells": [
  {
   "cell_type": "code",
   "execution_count": 1,
   "id": "6a4403ec-7a5d-4e7d-933b-7c19c05acf10",
   "metadata": {},
   "outputs": [],
   "source": [
    "import a"
   ]
  },
  {
   "cell_type": "code",
   "execution_count": 2,
   "id": "34b1fb0f-8765-44e9-96c8-cfc7987fd6af",
   "metadata": {},
   "outputs": [
    {
     "name": "stdout",
     "output_type": "stream",
     "text": [
      "I am a func\n"
     ]
    }
   ],
   "source": [
    "a.a_func()"
   ]
  }
 ],
 "metadata": {
  "kernelspec": {
   "display_name": "Python 3 (ipykernel)",
   "language": "python",
   "name": "python3"
  },
  "language_info": {
   "codemirror_mode": {
    "name": "ipython",
    "version": 3
   },
   "file_extension": ".py",
   "mimetype": "text/x-python",
   "name": "python",
   "nbconvert_exporter": "python",
   "pygments_lexer": "ipython3",
   "version": "3.9.12"
  }
 },
 "nbformat": 4,
 "nbformat_minor": 5
}
