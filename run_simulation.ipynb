{
 "cells": [
  {
   "cell_type": "markdown",
   "id": "ed1c63ee-8ca4-42ae-8f4d-9bd94a3456c3",
   "metadata": {},
   "source": [
    "# Run Simulator GUI"
   ]
  },
  {
   "cell_type": "code",
   "execution_count": 1,
   "id": "d322e14a-9b94-498f-ba46-1c10c031cb81",
   "metadata": {},
   "outputs": [],
   "source": [
    "import math\n",
    "import time\n",
    "import numbers\n",
    "import numpy as np\n",
    "from PIL import Image\n",
    "import ipywidgets as widgets\n",
    "import matplotlib.pyplot as plt\n",
    "from sklearn.metrics import mean_squared_error\n",
    "from ipywidgets import FloatSlider, IntSlider, Dropdown, Layout, interact\n",
    "\n",
    "from lib.util import plot_XY_function_graph\n",
    "from lib.cnn import ImageUtil, CNN, CNNTemplate, CNNSimulator\n",
    "from lib.cnn_template import CNNTemplateLib\n",
    "from lib.ode import rk4_system_algorithm, rk4_system_method, rkacem_system_method, ode_methods"
   ]
  },
  {
   "cell_type": "markdown",
   "id": "d8b0b6f7-7d22-4890-a26e-84447387b86c",
   "metadata": {},
   "source": [
    "### prepare image and template run simulation"
   ]
  },
  {
   "cell_type": "code",
   "execution_count": 2,
   "id": "c80c1aab-425c-4153-b085-b1dea3a8c01e",
   "metadata": {},
   "outputs": [
    {
     "data": {
      "image/png": "[encoded data removed]",
      "text/plain": [
       "<PIL.Image.Image image mode=L size=90x90 at 0x1D61E854700>"
      ]
     },
     "metadata": {},
     "output_type": "display_data"
    },
    {
     "data": {
      "image/png": "[encoded data removed]",
      "text/plain": [
       "<PIL.Image.Image image mode=L size=90x90 at 0x1D622CE1250>"
      ]
     },
     "metadata": {},
     "output_type": "display_data"
    },
    {
     "name": "stdout",
     "output_type": "stream",
     "text": [
      "A=[[0 0 0]\n",
      " [0 3 0]\n",
      " [0 0 0]]\n",
      "B=[[0 0 0]\n",
      " [0 3 0]\n",
      " [0 0 0]]\n",
      "I=2\n"
     ]
    }
   ],
   "source": [
    "# setup image from encoding\n",
    "ImageUtil.save_image_from_nparray(np.array(\n",
    "    [[+1, -1, +1, -1, +1, -1, +1, -1, +1],\n",
    "    [+1, -1, +1, -1, +1, -1, +1, -1, +1],\n",
    "    [+1, -1, +1, -1, +1, -1, +1, -1, +1],\n",
    "    [+1, -1, +1, -1, +1, -1, +1, -1, +1],\n",
    "    [+1, -1, +1, -1, +1, -1, +1, -1, +1],\n",
    "    [+1, -1, +1, -1, +1, -1, +1, -1, +1],\n",
    "    [+1, -1, +1, -1, +1, -1, +1, -1, +1],\n",
    "    [+1, -1, +1, -1, +1, -1, +1, -1, +1],\n",
    "    [+1, -1, +1, -1, +1, -1, +1, -1, +1]]\n",
    "), \"image/input.png\", display_scale=10)\n",
    "\n",
    "\n",
    "ImageUtil.save_image_from_nparray(np.array(\n",
    "    [[+1, +1, +1, +1, +1, +1, +1, +1, +1],\n",
    "    [-1, -1, -1, -1, -1, -1, -1, -1, -1],\n",
    "    [+1, +1, +1, +1, +1, +1, +1, +1, +1],\n",
    "    [-1, -1, -1, -1, -1, -1, -1, -1, -1],\n",
    "    [+1, +1, +1, +1, +1, +1, +1, +1, +1],\n",
    "    [-1, -1, -1, -1, -1, -1, -1, -1, -1],\n",
    "    [+1, +1, +1, +1, +1, +1, +1, +1, +1],\n",
    "    [-1, -1, -1, -1, -1, -1, -1, -1, -1],\n",
    "    [+1, +1, +1, +1, +1, +1, +1, +1, +1]]\n",
    "), \"image/state.png\", display_scale=10)\n",
    "\n",
    "\n",
    "template = CNNTemplate(\n",
    "    A=np.array(\n",
    "        [[0, 0, 0],\n",
    "        [0, 3, 0],\n",
    "        [0, 0, 0]]\n",
    "    ),\n",
    "    B=np.array(\n",
    "        [[0, 0, 0],\n",
    "        [0, 3, 0],\n",
    "        [0, 0, 0]]\n",
    "    ),\n",
    "    I=2\n",
    ")\n",
    "print(template)"
   ]
  },
  {
   "cell_type": "markdown",
   "id": "7322a02c-f18a-4962-a86a-ecd04a9e3974",
   "metadata": {},
   "source": [
    "### Using interactive widget"
   ]
  },
  {
   "cell_type": "code",
   "execution_count": 3,
   "id": "9c819567-b378-45cc-acc1-76f179c7d3d0",
   "metadata": {},
   "outputs": [
    {
     "data": {
      "application/vnd.jupyter.widget-view+json": {
       "model_id": "7686f455b5094aa1ab406158799fa546",
       "version_major": 2,
       "version_minor": 0
      },
      "text/plain": [
       "interactive(children=(Dropdown(description='ode_method', options=('rkacem_system_method', 'rk4_system_method')…"
      ]
     },
     "metadata": {},
     "output_type": "display_data"
    }
   ],
   "source": [
    "# @widgets.interact(\n",
    "#     time=FloatSlider(min=0, max=20, step=.1, value=1, layout=Layout(width='600px')),\n",
    "#     step_size=FloatSlider(min=.1, max=5, step=.1, value=1, layout=Layout(width='600px')),\n",
    "#     max_tol_dym=\".01\"\n",
    "# )\n",
    "ode_methods_name = list(ode_methods.keys())\n",
    "@widgets.interact(\n",
    "    ode_method = ode_methods_name,\n",
    "    time=FloatSlider(min=0, max=20, step=.1, value=1, layout=Layout(width='600px')),\n",
    "    step_size=FloatSlider(min=.1, max=5, step=.1, value=1, layout=Layout(width='600px')),\n",
    "    tol=\".01\",\n",
    "    max_tol_dym=\".01\"\n",
    ")\n",
    "def run_hole_fill_simulator(ode_method, time, step_size,tol, max_tol_dym):\n",
    "    \n",
    "    cnn_input = ImageUtil.convert_image2bipolar_encode(Image.open(\"image/input.png\"))\n",
    "    cnn_state = ImageUtil.convert_image2bipolar_encode(Image.open(\"image/state.png\"))\n",
    "    \n",
    "    cnn = CNN(cnn_input, cnn_state, template)\n",
    "    \n",
    "    simulator = CNNSimulator(cnn)\n",
    "    # simulator.step_size = step_size\n",
    "    # simulator.simulation_time = time\n",
    "    # simulator.max_tolerable_dynamic = float(max_tol_dym)\n",
    "    \n",
    "    simulator.step_size = step_size\n",
    "    simulator.simulation_time = time\n",
    "    simulator.max_tolerable_dynamic = float(max_tol_dym)\n",
    "    simulator.tol = float(tol)\n",
    "    simulator.ode_method = ode_methods[ode_method]\n",
    "    \n",
    "    simulator.simulate()\n",
    "    simulator.display_simulator_output()"
   ]
  },
  {
   "cell_type": "markdown",
   "id": "b86878fa-750e-48fc-8b4f-f5300d28bf16",
   "metadata": {},
   "source": [
    "### Using Simulation Button"
   ]
  },
  {
   "cell_type": "code",
   "execution_count": 4,
   "id": "0b64e8c8-6b43-4ac3-aa66-d3c2230c62b3",
   "metadata": {},
   "outputs": [
    {
     "data": {
      "application/vnd.jupyter.widget-view+json": {
       "model_id": "cb3bdbb69a8240e49250dc48889a5db8",
       "version_major": 2,
       "version_minor": 0
      },
      "text/plain": [
       "VBox(children=(Dropdown(description='ODE Method:', options=('rkacem_system_method', 'rk4_system_method'), styl…"
      ]
     },
     "metadata": {},
     "output_type": "display_data"
    }
   ],
   "source": [
    "\n",
    "ode_method_dropdown = widgets.Dropdown(description=\"ODE Method:\", options=ode_methods_name, style= {'description_width': '100px'})\n",
    "time_slider = widgets.FloatSlider(description=\"Simulation Time:\", min=0, max=20, value=2, style= {'description_width': '100px'})\n",
    "step_size_slider = widgets.FloatSlider(description=\"Step Size:\", min=.1, max=3, style= {'description_width': '100px'})\n",
    "tolerance_field = widgets.FloatText(description=\"Tolerance:\", value=.01, style= {'description_width': '100px'}, layout=Layout(width='200px'))\n",
    "stop_dynamic_field = widgets.FloatText(description=\"Stop Dynamic:\", value=.01, style= {'description_width': '100px'}, layout=Layout(width='200px'))\n",
    "\n",
    "run_simulation_button = widgets.Button(description='Run Simulaiton', )\n",
    "output = widgets.Output()\n",
    "base_ui = widgets.VBox([\n",
    "    ode_method_dropdown,\n",
    "    time_slider,\n",
    "    step_size_slider, \n",
    "    widgets.HBox([tolerance_field, stop_dynamic_field]),\n",
    "    run_simulation_button,\n",
    "    output\n",
    "])\n",
    "\n",
    "def setup_simulator_properties_from_ui(simulator):\n",
    "    simulator.tol = float(tolerance_field.value)\n",
    "    simulator.ode_method = ode_methods[ode_method_dropdown.value]\n",
    "    simulator.step_size = float(step_size_slider.value)\n",
    "    simulator.simulation_time = float(time_slider.value)\n",
    "    simulator.max_tolerable_dynamic = float(stop_dynamic_field.value)\n",
    "\n",
    "    \n",
    "def run_simulation_n(b):\n",
    "    with output:\n",
    "        output.clear_output()\n",
    "        cnn_input = ImageUtil.convert_image2bipolar_encode(Image.open(\"image/input.png\"))\n",
    "        cnn_state = ImageUtil.convert_image2bipolar_encode(Image.open(\"image/state.png\"))\n",
    "        cnn = CNN(cnn_input, cnn_state, template)\n",
    "        simulator = CNNSimulator(cnn)\n",
    "        setup_simulator_properties_from_ui(simulator)\n",
    "        simulator.simulate()\n",
    "        # display_simulator_output(simulator)\n",
    "        simulator.display_simulator_output()\n",
    "        plt.show()\n",
    "\n",
    "run_simulation_button.on_click(run_simulation_n)\n",
    "display(base_ui)"
   ]
  }
 ],
 "metadata": {
  "kernelspec": {
   "display_name": "Python 3 (ipykernel)",
   "language": "python",
   "name": "python3"
  },
  "language_info": {
   "codemirror_mode": {
    "name": "ipython",
    "version": 3
   },
   "file_extension": ".py",
   "mimetype": "text/x-python",
   "name": "python",
   "nbconvert_exporter": "python",
   "pygments_lexer": "ipython3",
   "version": "3.9.12"
  }
 },
 "nbformat": 4,
 "nbformat_minor": 5
}
