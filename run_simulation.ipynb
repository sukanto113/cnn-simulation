{
 "cells": [
  {
   "cell_type": "markdown",
   "id": "ed1c63ee-8ca4-42ae-8f4d-9bd94a3456c3",
   "metadata": {
    "tags": []
   },
   "source": [
    "# Run Simulator GUI"
   ]
  },
  {
   "cell_type": "code",
   "execution_count": 1,
   "id": "d322e14a-9b94-498f-ba46-1c10c031cb81",
   "metadata": {},
   "outputs": [],
   "source": [
    "import numpy as np\n",
    "from PIL import Image\n",
    "from lib.cnn import ImageUtil, CNN, CNNTemplate, CNNSimulator\n",
    "import lib.simulationui as gui"
   ]
  },
  {
   "cell_type": "markdown",
   "id": "d8b0b6f7-7d22-4890-a26e-84447387b86c",
   "metadata": {},
   "source": [
    "### prepare image and template run simulation"
   ]
  },
  {
   "cell_type": "code",
   "execution_count": 2,
   "id": "c80c1aab-425c-4153-b085-b1dea3a8c01e",
   "metadata": {},
   "outputs": [
    {
     "data": {
      "image/png": "[encoded data removed]",
      "text/plain": [
       "<PIL.Image.Image image mode=L size=90x90>"
      ]
     },
     "metadata": {},
     "output_type": "display_data"
    },
    {
     "data": {
      "image/png": "[encoded data removed]",
      "text/plain": [
       "<PIL.Image.Image image mode=L size=90x90>"
      ]
     },
     "metadata": {},
     "output_type": "display_data"
    }
   ],
   "source": [
    "# setup image from encoding\n",
    "ImageUtil.save_image_from_nparray(np.array(\n",
    "    [[+1, -1, +1, -1, +1, -1, +1, -1, +1],\n",
    "    [+1, -1, +1, -1, +1, -1, +1, -1, +1],\n",
    "    [+1, -1, +1, -1, +1, -1, +1, -1, +1],\n",
    "    [+1, -1, +1, -1, +1, -1, +1, -1, +1],\n",
    "    [+1, -1, +1, -1, +1, -1, +1, -1, +1],\n",
    "    [+1, -1, +1, -1, +1, -1, +1, -1, +1],\n",
    "    [+1, -1, +1, -1, +1, -1, +1, -1, +1],\n",
    "    [+1, -1, +1, -1, +1, -1, +1, -1, +1],\n",
    "    [+1, -1, +1, -1, +1, -1, +1, -1, +1]]\n",
    "), \"image/input.png\", display_scale=10)\n",
    "\n",
    "\n",
    "ImageUtil.save_image_from_nparray(np.array(\n",
    "    [[+1, +1, +1, +1, +1, +1, +1, +1, +1],\n",
    "    [-1, -1, -1, -1, -1, -1, -1, -1, -1],\n",
    "    [+1, +1, +1, +1, +1, +1, +1, +1, +1],\n",
    "    [-1, -1, -1, -1, -1, -1, -1, -1, -1],\n",
    "    [+1, +1, +1, +1, +1, +1, +1, +1, +1],\n",
    "    [-1, -1, -1, -1, -1, -1, -1, -1, -1],\n",
    "    [+1, +1, +1, +1, +1, +1, +1, +1, +1],\n",
    "    [-1, -1, -1, -1, -1, -1, -1, -1, -1],\n",
    "    [+1, +1, +1, +1, +1, +1, +1, +1, +1]]\n",
    "), \"image/state.png\", display_scale=10)\n",
    "\n",
    "\n",
    "template = CNNTemplate(\n",
    "    A=np.array(\n",
    "        [[0, 0, 0],\n",
    "        [0, 3, 0],\n",
    "        [0, 0, 0]]\n",
    "    ),\n",
    "    B=np.array(\n",
    "        [[0, 0, 0],\n",
    "        [0, 3, 0],\n",
    "        [0, 0, 0]]\n",
    "    ),\n",
    "    I=2\n",
    ")\n",
    "\n",
    "cnn_input = ImageUtil.convert_image2bipolar_encode(Image.open(\"image/input.png\"))\n",
    "cnn_state = ImageUtil.convert_image2bipolar_encode(Image.open(\"image/state.png\"))\n",
    "cnn = CNN(cnn_input, cnn_state, template)"
   ]
  },
  {
   "cell_type": "markdown",
   "id": "7322a02c-f18a-4962-a86a-ecd04a9e3974",
   "metadata": {},
   "source": [
    "### Using interactive widget"
   ]
  },
  {
   "cell_type": "markdown",
   "id": "b86878fa-750e-48fc-8b4f-f5300d28bf16",
   "metadata": {},
   "source": [
    "### Using Simulation Button"
   ]
  },
  {
   "cell_type": "code",
   "execution_count": 5,
   "id": "d4d04453-2c1c-4a0b-985a-e2212a8b5fa2",
   "metadata": {},
   "outputs": [
    {
     "data": {
      "application/vnd.jupyter.widget-view+json": {
       "model_id": "78b30c393b9c4f188257cb9e314ac736",
       "version_major": 2,
       "version_minor": 0
      },
      "text/plain": [
       "VBox(children=(Dropdown(description='ODE Method:', options=('rk4_system_method', 'rkacem_system_method', 'rkhm…"
      ]
     },
     "metadata": {},
     "output_type": "display_data"
    }
   ],
   "source": [
    "simulator = CNNSimulator(cnn)\n",
    "\n",
    "gui.build_button_simulation_gui(simulator)"
   ]
  },
  {
   "cell_type": "code",
   "execution_count": 4,
   "id": "61576b91-dde8-4e5b-a84c-88e8728bcb79",
   "metadata": {},
   "outputs": [
    {
     "data": {
      "application/vnd.jupyter.widget-view+json": {
       "model_id": "202933ac7c074402b84869f982c9e65a",
       "version_major": 2,
       "version_minor": 0
      },
      "text/plain": [
       "interactive(children=(Dropdown(description='ode_method', options=('rk4_system_method', 'rkacem_system_method',…"
      ]
     },
     "metadata": {},
     "output_type": "display_data"
    }
   ],
   "source": [
    "simulator = CNNSimulator(cnn)\n",
    "gui.build_interactive_simulation_gui(simulator)"
   ]
  }
 ],
 "metadata": {
  "kernelspec": {
   "display_name": "Python 3 (ipykernel)",
   "language": "python",
   "name": "python3"
  },
  "language_info": {
   "codemirror_mode": {
    "name": "ipython",
    "version": 3
   },
   "file_extension": ".py",
   "mimetype": "text/x-python",
   "name": "python",
   "nbconvert_exporter": "python",
   "pygments_lexer": "ipython3",
   "version": "3.11.2"
  }
 },
 "nbformat": 4,
 "nbformat_minor": 5
}
