{
 "cells": [
  {
   "cell_type": "code",
   "execution_count": 1,
   "id": "0494deed-67e2-4849-86ed-d4adf8509305",
   "metadata": {
    "tags": []
   },
   "outputs": [
    {
     "data": {
      "application/vnd.jupyter.widget-view+json": {
       "model_id": "ec8fc07618c9445ba991cd29bf984ef0",
       "version_major": 2,
       "version_minor": 0
      },
      "text/plain": [
       "interactive(children=(FloatSlider(value=1.0, description='step', max=3.0, min=0.1), FloatText(value=0.01, desc…"
      ]
     },
     "metadata": {},
     "output_type": "display_data"
    }
   ],
   "source": [
    "import ipywidgets as widgets\n",
    "from ode.rk55 import rk55_system_method\n",
    "from ode.test_helper import test_ode_method\n",
    "\n",
    "@widgets.interact(\n",
    "    step=widgets.FloatSlider(min=.1, max=3, value=1),\n",
    "    tol=widgets.FloatText(value=.01)\n",
    ")\n",
    "def test_ode_method_gui(step, tol):\n",
    "    test_ode_method(ode_method=rk55_system_method, step=step, tol=tol)"
   ]
  }
 ],
 "metadata": {
  "kernelspec": {
   "display_name": "Python 3 (ipykernel)",
   "language": "python",
   "name": "python3"
  },
  "language_info": {
   "codemirror_mode": {
    "name": "ipython",
    "version": 3
   },
   "file_extension": ".py",
   "mimetype": "text/x-python",
   "name": "python",
   "nbconvert_exporter": "python",
   "pygments_lexer": "ipython3",
   "version": "3.11.2"
  }
 },
 "nbformat": 4,
 "nbformat_minor": 5
}
