{
 "cells": [
  {
   "cell_type": "code",
   "execution_count": 1,
   "id": "d96b7387-7d8a-4470-90eb-f79747dbc0b2",
   "metadata": {},
   "outputs": [
    {
     "data": {
      "application/vnd.jupyter.widget-view+json": {
       "model_id": "08afd5b1e79b42019f225006acdb1458",
       "version_major": 2,
       "version_minor": 0
      },
      "text/plain": [
       "interactive(children=(FloatSlider(value=1.0, description='step', max=3.0, min=0.1), FloatText(value=0.01, desc…"
      ]
     },
     "metadata": {},
     "output_type": "display_data"
    }
   ],
   "source": [
    "import ipywidgets as widgets\n",
    "from rk4 import rk4_system_method\n",
    "from test_helper import test_ode_method\n",
    "\n",
    "# Todo investicate behaviour of rkacem when step size is 1.\n",
    "@widgets.interact(\n",
    "    step=widgets.FloatSlider(min=.1, max=3, value=1),\n",
    "    tol=widgets.FloatText(value=.01)\n",
    ")\n",
    "def test_ode_method_gui(step, tol):\n",
    "    test_ode_method(ode_method=rk4_system_method, step=step, tol=tol)"
   ]
  }
 ],
 "metadata": {
  "kernelspec": {
   "display_name": "Python 3 (ipykernel)",
   "language": "python",
   "name": "python3"
  },
  "language_info": {
   "codemirror_mode": {
    "name": "ipython",
    "version": 3
   },
   "file_extension": ".py",
   "mimetype": "text/x-python",
   "name": "python",
   "nbconvert_exporter": "python",
   "pygments_lexer": "ipython3",
   "version": "3.9.12"
  }
 },
 "nbformat": 4,
 "nbformat_minor": 5
}
