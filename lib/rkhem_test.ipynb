{
 "cells": [
  {
   "cell_type": "code",
   "execution_count": 1,
   "id": "71c1f5a3-27d4-40ad-96b6-f0a1d51720a8",
   "metadata": {
    "tags": []
   },
   "outputs": [
    {
     "data": {
      "application/vnd.jupyter.widget-view+json": {
       "model_id": "afa11d3936944d0dac544b3029af0841",
       "version_major": 2,
       "version_minor": 0
      },
      "text/plain": [
       "interactive(children=(FloatSlider(value=1.0, description='step', max=3.0, min=0.1), FloatText(value=0.01, desc…"
      ]
     },
     "metadata": {},
     "output_type": "display_data"
    }
   ],
   "source": [
    "import ipywidgets as widgets\n",
    "from ode.rkhem import rkhem_system_method\n",
    "from ode.test_helper import test_ode_method\n",
    "\n",
    "@widgets.interact(\n",
    "    step=widgets.FloatSlider(min=.1, max=3, value=1),\n",
    "    tol=widgets.FloatText(value=.01)\n",
    ")\n",
    "def test_ode_method_gui(step, tol):\n",
    "    test_ode_method(ode_method=rkhem_system_method, step=step, tol=tol)"
   ]
  }
 ],
 "metadata": {
  "kernelspec": {
   "display_name": "Python 3 (ipykernel)",
   "language": "python",
   "name": "python3"
  },
  "language_info": {
   "codemirror_mode": {
    "name": "ipython",
    "version": 3
   },
   "file_extension": ".py",
   "mimetype": "text/x-python",
   "name": "python",
   "nbconvert_exporter": "python",
   "pygments_lexer": "ipython3",
   "version": "3.11.2"
  }
 },
 "nbformat": 4,
 "nbformat_minor": 5
}
