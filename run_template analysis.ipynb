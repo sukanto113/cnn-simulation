{
 "cells": [
  {
   "cell_type": "code",
   "execution_count": 2,
   "id": "b584e21a-072f-4d36-b166-a6408d958976",
   "metadata": {},
   "outputs": [],
   "source": [
    "import numpy as np\n",
    "from PIL import Image\n",
    "from lib.cnn import ImageUtil, CNN, CNNTemplate, CNNSimulator\n",
    "import lib.simulationui as gui"
   ]
  },
  {
   "cell_type": "code",
   "execution_count": 13,
   "id": "8648544b-d338-493b-864e-dc1330f0fbfc",
   "metadata": {},
   "outputs": [
    {
     "data": {
      "application/vnd.jupyter.widget-view+json": {
       "model_id": "383cad55921f49acaff95b3a1f7db078",
       "version_major": 2,
       "version_minor": 0
      },
      "text/plain": [
       "interactive(children=(Dropdown(description='ode_method', options=('rk4_system_method', 'rkacem_system_method')…"
      ]
     },
     "metadata": {},
     "output_type": "display_data"
    }
   ],
   "source": [
    "template = CNNTemplate(\n",
    "    A=np.array(\n",
    "        [[0, 0.2, 0],\n",
    "        [0.2, 2, 0.2],\n",
    "        [0, 0.2, 0]]\n",
    "    ),\n",
    "    B=np.array(\n",
    "        [[0, 0, 0],\n",
    "        [0, 0, 0],\n",
    "        [0, 0, 0]]\n",
    "    ),\n",
    "    I=0\n",
    ")\n",
    "\n",
    "cnn_input = np.array(\n",
    "    [[0, 0, 0],\n",
    "    [0, 1, 0],\n",
    "    [0, 0, 0]]\n",
    ")\n",
    "\n",
    "cnn_state = np.array(\n",
    "    [[-1, -1, -1],\n",
    "    [-1, 1, -1],\n",
    "    [-1, -1, -1]]\n",
    ")\n",
    "\n",
    "cnn = CNN(cnn_input, cnn_state, template)\n",
    "simulator = CNNSimulator(cnn)\n",
    "gui.build_interactive_simulation_gui(simulator)"
   ]
  },
  {
   "cell_type": "code",
   "execution_count": null,
   "id": "1d059aeb-e493-4dd5-8ec1-451a33bafa7a",
   "metadata": {},
   "outputs": [],
   "source": []
  }
 ],
 "metadata": {
  "kernelspec": {
   "display_name": "Python 3 (ipykernel)",
   "language": "python",
   "name": "python3"
  },
  "language_info": {
   "codemirror_mode": {
    "name": "ipython",
    "version": 3
   },
   "file_extension": ".py",
   "mimetype": "text/x-python",
   "name": "python",
   "nbconvert_exporter": "python",
   "pygments_lexer": "ipython3",
   "version": "3.9.12"
  }
 },
 "nbformat": 4,
 "nbformat_minor": 5
}
