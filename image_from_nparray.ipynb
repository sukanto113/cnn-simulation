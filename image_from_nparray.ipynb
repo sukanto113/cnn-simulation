{
 "cells": [
  {
   "cell_type": "markdown",
   "id": "cf962559-7b61-41aa-b63c-3dc33d5fba72",
   "metadata": {},
   "source": [
    "# Image from a numpy array\n",
    "\n",
    "You can show a image from a numpy array as follows code"
   ]
  },
  {
   "cell_type": "code",
   "execution_count": 15,
   "id": "09a94f7f-966e-402e-85da-2f66e2c50807",
   "metadata": {},
   "outputs": [],
   "source": [
    "from PIL import Image\n",
    "import numpy as np\n",
    "\n",
    "def scale_np_array(array, scale):\n",
    "    return np.kron(array, np.ones((scale, scale)))\n",
    "\n",
    "def image_from_nparray(array, scale=1):\n",
    "    \"\"\"\n",
    "    Return PIL image from gray encoded array (where 0 for black and 255 for white).\n",
    "    \n",
    "    Example:\n",
    "    image = np.array(\n",
    "        [[0, 200],\n",
    "        [255, 0]]\n",
    "    )\n",
    "    image = image_from_nparray(image, scale=20)\n",
    "    display(image)\n",
    "    \"\"\"\n",
    "    scaled_array = scale_np_array(array, scale).astype(np.uint8)\n",
    "    image = Image.fromarray(scaled_array, mode='L')\n",
    "    return image\n"
   ]
  },
  {
   "cell_type": "code",
   "execution_count": 14,
   "id": "614c84f6-f57c-45a6-9980-95f7192bca3f",
   "metadata": {},
   "outputs": [
    {
     "data": {
      "image/png": "[encoded data removed]",
      "text/plain": [
       "<PIL.Image.Image image mode=L size=40x40 at 0x190CE346A90>"
      ]
     },
     "metadata": {},
     "output_type": "display_data"
    }
   ],
   "source": [
    "image = np.array(\n",
    "    [[0, 200],\n",
    "    [255, 0]]\n",
    ")\n",
    "image = image_from_nparray(image, scale=20)\n",
    "display(image)"
   ]
  },
  {
   "cell_type": "code",
   "execution_count": 16,
   "id": "9d8310b1-1550-4619-bc47-408e28e37f5e",
   "metadata": {},
   "outputs": [
    {
     "data": {
      "image/png": "[encoded data removed]",
      "text/plain": [
       "<PIL.Image.Image image mode=L size=400x400 at 0x190CD678280>"
      ]
     },
     "execution_count": 16,
     "metadata": {},
     "output_type": "execute_result"
    }
   ],
   "source": [
    "image = np.array(\n",
    "[[0, 200],\n",
    "[255, 0]]\n",
    ",dtype=np.uint8)\n",
    "\n",
    "Image.fromarray(scale_np_array(image, 200).astype(np.uint8))\n"
   ]
  },
  {
   "cell_type": "code",
   "execution_count": null,
   "id": "3e815c8e-fd32-4c7f-96ee-c90615e4e279",
   "metadata": {},
   "outputs": [],
   "source": []
  }
 ],
 "metadata": {
  "kernelspec": {
   "display_name": "Python 3 (ipykernel)",
   "language": "python",
   "name": "python3"
  },
  "language_info": {
   "codemirror_mode": {
    "name": "ipython",
    "version": 3
   },
   "file_extension": ".py",
   "mimetype": "text/x-python",
   "name": "python",
   "nbconvert_exporter": "python",
   "pygments_lexer": "ipython3",
   "version": "3.9.12"
  }
 },
 "nbformat": 4,
 "nbformat_minor": 5
}
