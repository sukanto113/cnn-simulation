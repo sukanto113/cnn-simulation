{
 "cells": [
  {
   "cell_type": "code",
   "execution_count": 1,
   "id": "cbd9693e-4cbc-42e9-b4fb-c04ea33b2960",
   "metadata": {},
   "outputs": [],
   "source": [
    "import numpy as np\n",
    "from PIL import Image\n",
    "from lib.cnn import ImageUtil, CNN, CNNTemplate, CNNSimulator\n",
    "import lib.simulationui as gui"
   ]
  },
  {
   "cell_type": "markdown",
   "id": "20a5c156-c88f-4ad6-ba37-c4962ff79f07",
   "metadata": {},
   "source": [
    "# gray edge detection"
   ]
  },
  {
   "cell_type": "markdown",
   "id": "915dd522-fde0-42c5-8264-350abc5ecce3",
   "metadata": {},
   "source": [
    "### First do average and save the image"
   ]
  },
  {
   "cell_type": "code",
   "execution_count": 10,
   "id": "857517bf-9298-4767-85a3-4bb7a471cba7",
   "metadata": {},
   "outputs": [
    {
     "data": {
      "application/vnd.jupyter.widget-view+json": {
       "model_id": "f7c0121a00df4a1e99ca155ff0e6866c",
       "version_major": 2,
       "version_minor": 0
      },
      "text/plain": [
       "VBox(children=(Dropdown(description='ODE Method:', options=('rk4_system_method', 'rkacem_system_method'), styl…"
      ]
     },
     "metadata": {},
     "output_type": "display_data"
    }
   ],
   "source": [
    "avg_template = CNNTemplate(\n",
    "    A=np.array(\n",
    "        [[0, .1, 0],\n",
    "        [.1, 2, .1],\n",
    "        [0, .1, 0]]\n",
    "    ),\n",
    "    B=np.array(\n",
    "        [[0, 0, 0],\n",
    "        [0, 0, 0],\n",
    "        [0, 0, 0]]\n",
    "    ),\n",
    "    I=0\n",
    ")\n",
    "\n",
    "# avg_state = ImageUtil.convert_image2bipolar_encode(Image.open(\"image/average_state_1.png\"))\n",
    "avg_state = ImageUtil.convert_image2bipolar_encode(Image.open(\"image/face.png\"))\n",
    "\n",
    "avg_input = np.ones(avg_state.shape)\n",
    "cnn = CNN(avg_input, avg_state, avg_template)\n",
    "simulator = CNNSimulator(cnn)\n",
    "gui.build_button_simulation_gui(simulator)"
   ]
  },
  {
   "cell_type": "code",
   "execution_count": 11,
   "id": "790d3f94-f972-481d-bdcc-bdeaf8024cef",
   "metadata": {},
   "outputs": [
    {
     "data": {
      "application/vnd.jupyter.widget-view+json": {
       "model_id": "a77a6143b9ee47a29c4764720f69dd00",
       "version_major": 2,
       "version_minor": 0
      },
      "text/plain": [
       "VBox(children=(Dropdown(description='ODE Method:', options=('rk4_system_method', 'rkacem_system_method'), styl…"
      ]
     },
     "metadata": {},
     "output_type": "display_data"
    }
   ],
   "source": [
    "edge_detect_template = CNNTemplate(\n",
    "    A=np.array(\n",
    "        [[0, 0, 0],\n",
    "        [0, 0, 0],\n",
    "        [0, 0, 0]]\n",
    "    ),\n",
    "    B=np.array(\n",
    "        [[-1, -1, -1],\n",
    "        [-1, 8, -1],\n",
    "        [-1, -1, -1]]\n",
    "    ),\n",
    "    I=-1\n",
    ")\n",
    "\n",
    "edge_input = ImageUtil.convert_image2bipolar_encode(Image.open(\"image/tree_100_1.png\"))\n",
    "edge_state = np.zeros(edge_input.shape)-1\n",
    "cnn = CNN(edge_input, edge_state, edge_detect_template)\n",
    "simulator = CNNSimulator(cnn)\n",
    "\n",
    "gui.build_button_simulation_gui(simulator)"
   ]
  }
 ],
 "metadata": {
  "kernelspec": {
   "display_name": "Python 3 (ipykernel)",
   "language": "python",
   "name": "python3"
  },
  "language_info": {
   "codemirror_mode": {
    "name": "ipython",
    "version": 3
   },
   "file_extension": ".py",
   "mimetype": "text/x-python",
   "name": "python",
   "nbconvert_exporter": "python",
   "pygments_lexer": "ipython3",
   "version": "3.9.12"
  }
 },
 "nbformat": 4,
 "nbformat_minor": 5
}
